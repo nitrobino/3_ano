{
 "cells": [
  {
   "cell_type": "markdown",
   "metadata": {},
   "source": [
    "# TPC1 - Física Estatística\n",
    "\n",
    "# Atenção: \n",
    "* Não deve escrever o seu nome nem nenhum código identificador em nenhum sítio.\n",
    "* Deve entregar ESTE Notebook de Jupiter\n",
    "* O trabalho é individual. Podem e devem haver discussões com colegas mas o resultado entregue é individual. \n",
    "* Não deve acrescentar ou apagar nenhuma célula\n",
    "* Todas as explicações devem ser claras e concisas.\n",
    "* É preferível fazer menos e fazer bem que muito mal.\n",
    "* O pacote numba pode diminuir o tempo de cálculo. \n",
    "* A não verificação de alguma destas regras leva ao anulamento e exclusão da prova."
   ]
  },
  {
   "cell_type": "code",
   "execution_count": null,
   "metadata": {},
   "outputs": [],
   "source": [
    "# Introduza aqui funcoes gerais"
   ]
  },
  {
   "cell_type": "markdown",
   "metadata": {},
   "source": [
    "# Exercício 1"
   ]
  },
  {
   "cell_type": "markdown",
   "metadata": {},
   "source": [
    "Considere a distribuição de probabilidade de Cauchy (também conhecida por distribuição de Lorentz),$$ \\rho(x)=\\frac{1}{\\pi}\\frac{a}{a^{2}+(x-\\mu)^{2}}$$\n",
    "onde $a$ é uma factor de escala que pode ser fixado a=1 e \\mu é o centro da distribuição que escolhemos, $\\mu=1$.\n",
    "\n",
    "1. Calcule analiticamente a função probabilidade cumulativa $C(x)$."
   ]
  },
  {
   "cell_type": "markdown",
   "metadata": {},
   "source": [
    "#Responda aqui\n"
   ]
  },
  {
   "cell_type": "markdown",
   "metadata": {},
   "source": [
    "2. Escreva uma função que, através do método de inversão, gera amostras aleatórias de tamanho $M$ com esta distribuição. "
   ]
  },
  {
   "cell_type": "code",
   "execution_count": 2,
   "metadata": {},
   "outputs": [],
   "source": [
    "# Responda aqui\n"
   ]
  },
  {
   "cell_type": "markdown",
   "metadata": {},
   "source": [
    "3. Represente a distribuição de probabilidade do estimador do valor médio \n",
    "$$\\overline{X}_{M}=\\frac{1}{M}\\sum_{i=1}^{M}x_{i}$$\n",
    "para valores de M=16,64,256. "
   ]
  },
  {
   "cell_type": "code",
   "execution_count": 3,
   "metadata": {},
   "outputs": [],
   "source": [
    "# Responda aqui\n"
   ]
  },
  {
   "cell_type": "markdown",
   "metadata": {},
   "source": [
    "4. O que concluí da observação dos resultados da alínea anterior? Será que o teorema do limite central se aplica? "
   ]
  },
  {
   "cell_type": "markdown",
   "metadata": {},
   "source": [
    "#Responda aqui\n"
   ]
  },
  {
   "cell_type": "markdown",
   "metadata": {},
   "source": [
    "# Exercício 2"
   ]
  },
  {
   "cell_type": "markdown",
   "metadata": {},
   "source": [
    "Considere a distribuição de probabilidadade de Pareto tipo III, \n",
    "$$\\rho(x)=\\frac{C(\\alpha)}{a^{\\alpha}+|x-\\mu|^{\\alpha}}$$\n",
    "onde $a=1$ é um factor de escala que pode ser fixado e $\\mu$ é o centro da distribuição (escolhemos $\\mu=1$) ."
   ]
  },
  {
   "cell_type": "markdown",
   "metadata": {},
   "source": [
    "1. Escreva uma função que usa o método de von Neumann para gerar amostras aleatórias de tamanho M. **Sugestão:** Proponha estados com a distribuição de Cauchy."
   ]
  },
  {
   "cell_type": "code",
   "execution_count": 5,
   "metadata": {},
   "outputs": [],
   "source": [
    "# Responda aqui"
   ]
  },
  {
   "cell_type": "markdown",
   "metadata": {},
   "source": [
    "2. Represente a distribuição de probabilidade do estimador \n",
    "$$\\overline{X}_{M}=\\frac{1}{M}\\sum_{i=1}^{M}x_{i}$$\n",
    "para valores de $M=16,64,256$ e para $\\alpha=2.5,3$ e $3.5$."
   ]
  },
  {
   "cell_type": "code",
   "execution_count": 6,
   "metadata": {},
   "outputs": [],
   "source": [
    "# Responda aqui"
   ]
  },
  {
   "cell_type": "markdown",
   "metadata": {},
   "source": [
    "3. O que conclui da observação das distribuições geradas? Em qual/quais dela/s se verifica o teorema do limite central?"
   ]
  },
  {
   "cell_type": "markdown",
   "metadata": {},
   "source": [
    "#Responda aqui"
   ]
  },
  {
   "cell_type": "markdown",
   "metadata": {},
   "source": [
    "# Exercício 3"
   ]
  },
  {
   "cell_type": "markdown",
   "metadata": {},
   "source": [
    "Pelo teorema do limite central, sabemos que a distribuição do estimador da média de uma amostra de variáveis aleatórias tende para uma gaussiana caracterizada por,\n",
    "\\begin{align}\n",
    "\\left\\langle \\overline{X}_{M}\\right\\rangle \t& =\\left\\langle x\\right\\rangle \\\\\n",
    "\\text{var}(\\overline{X}_{M}) & =\\frac{\\text{var}(x)}{M}.\n",
    "\\end{align}\n",
    "1. Estude numericamente, para as distribuições discutidas nos problemas anteriores ($\\alpha=2,2.5,3,3.5$), representando em função do tamanho da amostra ($M$) as sequintes quantidades,"
   ]
  },
  {
   "cell_type": "markdown",
   "metadata": {},
   "source": [
    " (a) O estimador do valor médio."
   ]
  },
  {
   "cell_type": "code",
   "execution_count": 10,
   "metadata": {},
   "outputs": [],
   "source": [
    "# Responda aqui"
   ]
  },
  {
   "cell_type": "markdown",
   "metadata": {},
   "source": [
    "(b) O estimador da variância."
   ]
  },
  {
   "cell_type": "code",
   "execution_count": 11,
   "metadata": {},
   "outputs": [],
   "source": [
    "# Responda aqui"
   ]
  },
  {
   "cell_type": "markdown",
   "metadata": {},
   "source": [
    "(c) O cumulante de terceira ordem."
   ]
  },
  {
   "cell_type": "code",
   "execution_count": 12,
   "metadata": {},
   "outputs": [],
   "source": [
    "# Responda aqui"
   ]
  },
  {
   "cell_type": "markdown",
   "metadata": {},
   "source": [
    "(d) O cumulante de quarta ordem."
   ]
  },
  {
   "cell_type": "code",
   "execution_count": null,
   "metadata": {},
   "outputs": [],
   "source": [
    "# Responda aqui"
   ]
  },
  {
   "cell_type": "markdown",
   "metadata": {},
   "source": [
    "2. O que conclui? Compare com os resultados analíticos. Em que condições o teorema do limite central se verifica? Qual a importância, para a demonstração do teorema do limite central, da existência de momentos finitos?"
   ]
  },
  {
   "cell_type": "markdown",
   "metadata": {},
   "source": [
    "#Responda aqui"
   ]
  },
  {
   "cell_type": "markdown",
   "metadata": {},
   "source": [
    "# Exercício 4"
   ]
  },
  {
   "cell_type": "markdown",
   "metadata": {},
   "source": [
    "Na demonstração do teorema do limite central obtivemos o resultado exacto,\n",
    "\\begin{align}\n",
    "\\phi_{N}(k)\t& =\\int_{-\\infty}^{+\\infty}dxe^{-ikX}\\rho_{N}(X) \\\\\n",
    "\t        & =\\left(\\int_{-\\infty}^{+\\infty}dxe^{-ikx}\\rho(x)\\right)^{N}\n",
    " \\end{align}\n",
    "quando $X=\\sum_{i=1}^{N}x_{i}$. Normalmente expandimos a exponencial em séries de Taylor dando origem à expansão de cumulantes,\n",
    "$$\\phi_{N}(k)=e^{N\\log\\left(\\left\\langle e^{-ikx}\\right\\rangle \\right)}$$ \n",
    "concluímos que para as distribuições analisadas neste TPC, a partir de determinada ordem, os cumulantes divergem.\n",
    "\n",
    "1. Escreva uma função capaz de avaliar $\\phi(k)$ usando amostragem por importância (ver actividades computacionais).\n"
   ]
  },
  {
   "cell_type": "markdown",
   "metadata": {},
   "source": [
    "(a) Represente a parte real e imaginária da função $\\phi_{N}(k)$ para $N=16,64,256,1024$."
   ]
  },
  {
   "cell_type": "code",
   "execution_count": 14,
   "metadata": {},
   "outputs": [],
   "source": [
    "# Responda aqui"
   ]
  },
  {
   "cell_type": "markdown",
   "metadata": {},
   "source": [
    "(b) Descreva o que observou na alínea anterior?"
   ]
  },
  {
   "cell_type": "code",
   "execution_count": 15,
   "metadata": {},
   "outputs": [],
   "source": [
    "# Responda aqui"
   ]
  },
  {
   "cell_type": "markdown",
   "metadata": {},
   "source": [
    "2. A distribuição de probabilidade da média é dada por\n",
    "\\begin{align}\n",
    "\\rho(x) & =\\frac{N}{2\\pi}\\int_{-\\infty}^{+\\infty}dke^{ikNx}\\phi_{N}(k)\\\\\n",
    "        & =\\frac{1}{2\\pi}\\int_{-\\infty}^{+\\infty}dk'e^{ik'x}\\phi_{N}\\left(\\frac{k'}{N}\\right)\n",
    "        \\end{align}\n",
    "Sabendo que \n",
    "\\begin{align}\n",
    "\\int_{-\\infty}^{+\\infty}dxe^{-ikx}\\frac{1}{\\pi(1+x^{2})}\t& =e^{-|k|} \\\\\n",
    "\\int_{-\\infty}^{+\\infty}dxe^{-ikx}\\frac{\\sqrt{2}}{\\pi(1+x^{4})}\t& =e^{-|k|/\\sqrt{2}}\\left(\\cos\\left(\\frac{k}{\\sqrt{2}}\\right)+\\sin\\left(\\frac{|k|}{\\sqrt{2}}\\right)\\right)\n",
    "\\end{align}\n",
    "calcule usando amostragem por importância as distribuições para $N=16,64,256$ para $\\alpha=2,2.5,3,3.5$. "
   ]
  },
  {
   "cell_type": "code",
   "execution_count": 16,
   "metadata": {},
   "outputs": [],
   "source": [
    "# Responda aqui"
   ]
  },
  {
   "cell_type": "markdown",
   "metadata": {},
   "source": [
    "3. Para cada uma das distribuições existe uma lei de transformação da variável $x=yN^{\\beta}+C(N)$ de tal modo que y seja independente de N, isto é, a distribuição $\\rho(y)$ \n",
    "para diferentes tamanhos é igual. Determine para cada valor de $\\alpha$ essa dependência. "
   ]
  },
  {
   "cell_type": "code",
   "execution_count": 18,
   "metadata": {},
   "outputs": [],
   "source": [
    "# Responda aqui"
   ]
  },
  {
   "cell_type": "code",
   "execution_count": null,
   "metadata": {},
   "outputs": [],
   "source": []
  }
 ],
 "metadata": {
  "kernelspec": {
   "display_name": "Python 3",
   "language": "python",
   "name": "python3"
  },
  "language_info": {
   "codemirror_mode": {
    "name": "ipython",
    "version": 3
   },
   "file_extension": ".py",
   "mimetype": "text/x-python",
   "name": "python",
   "nbconvert_exporter": "python",
   "pygments_lexer": "ipython3",
   "version": "3.7.4"
  },
  "latex_envs": {
   "LaTeX_envs_menu_present": true,
   "autoclose": false,
   "autocomplete": true,
   "bibliofile": "biblio.bib",
   "cite_by": "apalike",
   "current_citInitial": 1,
   "eqLabelWithNumbers": true,
   "eqNumInitial": 1,
   "hotkeys": {
    "equation": "Ctrl-E",
    "itemize": "Ctrl-I"
   },
   "labels_anchors": false,
   "latex_user_defs": false,
   "report_style_numbering": false,
   "user_envs_cfg": false
  }
 },
 "nbformat": 4,
 "nbformat_minor": 2
}
