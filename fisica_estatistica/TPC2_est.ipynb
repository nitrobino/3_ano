{
 "cells": [
  {
   "cell_type": "code",
   "execution_count": 30,
   "metadata": {},
   "outputs": [],
   "source": [
    "import numpy as np\n",
    "import pylab as p\n",
    "import scipy.linalg as sl"
   ]
  },
  {
   "cell_type": "code",
   "execution_count": 4,
   "metadata": {},
   "outputs": [],
   "source": [
    "def metropolis(N,x0,t):\n",
    "    arr = np.zeros(N)\n",
    "    \n",
    "    for j in range(t):\n",
    "        s = np.array([-1,1])\n",
    "        x = x0 + s[int(np.random.rand(1)*2)]*0.1\n",
    "        p = np.random.rand(1)\n",
    "    for i in range(N):\n",
    "        x = np.random.normal(x0,1,(len(x0)))\n",
    "        p = np.random.rand(len(x0))\n",
    "        v = np.where(p < rho(x)/rho(x0))\n",
    "        x0[v] = np.copy(x[v])\n",
    "        arr[i] = np.copy(x0)\n",
    "        \n",
    "    return np.reshape(arr,(N*len(x0)))"
   ]
  },
  {
   "cell_type": "code",
   "execution_count": 23,
   "metadata": {
    "scrolled": true
   },
   "outputs": [
    {
     "data": {
      "text/plain": [
       "array([[ 0. ,  0.5,  0. , ...,  0. ,  0. ,  0. ],\n",
       "       [ 0.5,  0. ,  0. , ...,  0. ,  0. ,  0. ],\n",
       "       [ 0. ,  0.5,  0. , ...,  0. ,  0. ,  0. ],\n",
       "       ..., \n",
       "       [ 0. ,  0. ,  0. , ...,  0. ,  0.5,  0. ],\n",
       "       [ 0. ,  0. ,  0. , ...,  0. ,  0. ,  0.5],\n",
       "       [ 0. ,  0. ,  0. , ...,  0. ,  0.5,  0. ]])"
      ]
     },
     "execution_count": 23,
     "metadata": {},
     "output_type": "execute_result"
    }
   ],
   "source": [
    "def matriz_E(N):\n",
    "    A = np.zeros((N,N))\n",
    "    A[0][1] = 0.5\n",
    "    A[1][0] = 0.5\n",
    "    A[N-1][N-2] = 0.5\n",
    "    A[N-2][N-1] = 0.5\n",
    "    for i in range(2,N-2):\n",
    "        A[i][i+1] = 0.5\n",
    "        A[i][i-1] = 0.5\n",
    "    return A\n",
    "matriz_E(100)"
   ]
  },
  {
   "cell_type": "code",
   "execution_count": 24,
   "metadata": {
    "collapsed": true
   },
   "outputs": [],
   "source": [
    "def matriz_A(N):\n",
    "    A = np.zeros((N,N))\n",
    "    for i in range(N):\n",
    "        for j in range(N):\n",
    "            A[i][j] = np.minimum(1.,rho(i*0.1 - 5,1,1)/rho(j*0.1 - 5,1,1))\n",
    "    return A\n"
   ]
  },
  {
   "cell_type": "code",
   "execution_count": 25,
   "metadata": {},
   "outputs": [
    {
     "data": {
      "text/plain": [
       "array([[  1.00000000e+00,   3.14864451e-22,   1.80430217e-42, ...,\n",
       "          1.80430217e-42,   3.14864451e-22,   1.00000000e+00],\n",
       "       [  1.00000000e+00,   1.00000000e+00,   5.73040926e-21, ...,\n",
       "          5.73040926e-21,   1.00000000e+00,   1.00000000e+00],\n",
       "       [  1.00000000e+00,   1.00000000e+00,   1.00000000e+00, ...,\n",
       "          1.00000000e+00,   1.00000000e+00,   1.00000000e+00],\n",
       "       ..., \n",
       "       [  1.00000000e+00,   1.00000000e+00,   1.00000000e+00, ...,\n",
       "          1.00000000e+00,   1.00000000e+00,   1.00000000e+00],\n",
       "       [  1.00000000e+00,   1.00000000e+00,   5.73040926e-21, ...,\n",
       "          5.73040926e-21,   1.00000000e+00,   1.00000000e+00],\n",
       "       [  1.00000000e+00,   3.14864451e-22,   1.80430217e-42, ...,\n",
       "          1.80430217e-42,   3.14864451e-22,   1.00000000e+00]])"
      ]
     },
     "execution_count": 25,
     "metadata": {},
     "output_type": "execute_result"
    }
   ],
   "source": [
    "def rho(x, beta,a):\n",
    "    return np.exp(-beta*(a*x**2 + x**4))\n",
    "\n",
    "matriz_A(101)"
   ]
  },
  {
   "cell_type": "code",
   "execution_count": 27,
   "metadata": {},
   "outputs": [
    {
     "name": "stdout",
     "output_type": "stream",
     "text": [
      "1.0\n",
      "1.0\n",
      "1.0\n",
      "1.0\n",
      "1.0\n",
      "1.0\n",
      "1.0\n",
      "1.0\n",
      "1.0\n",
      "1.0\n",
      "1.0\n",
      "1.0\n",
      "1.0\n",
      "1.0\n",
      "1.0\n",
      "1.0\n",
      "1.0\n",
      "1.0\n",
      "1.0\n",
      "1.0\n",
      "1.0\n",
      "1.0\n",
      "1.0\n",
      "1.0\n",
      "1.0\n",
      "1.0\n",
      "1.0\n",
      "1.0\n",
      "1.0\n",
      "1.0\n",
      "1.0\n",
      "1.0\n",
      "1.0\n",
      "1.0\n",
      "1.0\n",
      "1.0\n",
      "1.0\n",
      "1.0\n",
      "1.0\n",
      "1.0\n",
      "1.0\n",
      "1.0\n",
      "1.0\n",
      "1.0\n",
      "1.0\n",
      "1.0\n",
      "1.0\n",
      "1.0\n",
      "1.0\n",
      "1.0\n",
      "1.0\n",
      "1.0\n",
      "1.0\n",
      "1.0\n",
      "1.0\n",
      "1.0\n",
      "1.0\n",
      "1.0\n",
      "1.0\n",
      "1.0\n",
      "1.0\n",
      "1.0\n",
      "1.0\n",
      "1.0\n",
      "1.0\n",
      "1.0\n",
      "1.0\n",
      "1.0\n",
      "1.0\n",
      "1.0\n",
      "1.0\n",
      "1.0\n",
      "1.0\n",
      "1.0\n",
      "1.0\n",
      "1.0\n",
      "1.0\n",
      "1.0\n",
      "1.0\n",
      "1.0\n",
      "1.0\n",
      "1.0\n",
      "1.0\n",
      "1.0\n",
      "1.0\n",
      "1.0\n",
      "1.0\n",
      "1.0\n",
      "1.0\n",
      "1.0\n",
      "1.0\n",
      "1.0\n",
      "1.0\n",
      "1.0\n",
      "1.0\n",
      "1.0\n",
      "1.0\n",
      "1.0\n",
      "1.0\n",
      "1.0\n",
      "1.0\n"
     ]
    }
   ],
   "source": [
    "N = 101\n",
    "\n",
    "E = matriz_E(N)\n",
    "A = matriz_A(N)\n",
    "omega = E * A\n",
    "omega[0][0] = 0.5*(2-A[1][0])\n",
    "omega[N-1][N-1] = 0.5*(2-A[N-2][N-1])\n",
    "for i in range(1,N-1):\n",
    "    omega[i][i] = 0.5*(2 - A[i+1][i] - A[i-1][i])\n",
    "for i in range(N):\n",
    "    print(np.sum(omega[:,i]))"
   ]
  },
  {
   "cell_type": "code",
   "execution_count": 31,
   "metadata": {},
   "outputs": [
    {
     "ename": "AttributeError",
     "evalue": "module 'scipy.linalg' has no attribute 'eigh_tridiagonal'",
     "output_type": "error",
     "traceback": [
      "\u001b[0;31m---------------------------------------------------------------------------\u001b[0m",
      "\u001b[0;31mAttributeError\u001b[0m                            Traceback (most recent call last)",
      "\u001b[0;32m<ipython-input-31-23dafdb606b3>\u001b[0m in \u001b[0;36m<module>\u001b[0;34m()\u001b[0m\n\u001b[0;32m----> 1\u001b[0;31m \u001b[0msl\u001b[0m\u001b[0;34m.\u001b[0m\u001b[0meigh_tridiagonal\u001b[0m\u001b[0;34m(\u001b[0m\u001b[0momega\u001b[0m\u001b[0;34m)\u001b[0m\u001b[0;34m\u001b[0m\u001b[0m\n\u001b[0m",
      "\u001b[0;31mAttributeError\u001b[0m: module 'scipy.linalg' has no attribute 'eigh_tridiagonal'"
     ]
    }
   ],
   "source": [
    "sl.eigh_tridiagonal(omega)"
   ]
  },
  {
   "cell_type": "code",
   "execution_count": null,
   "metadata": {
    "collapsed": true
   },
   "outputs": [],
   "source": []
  }
 ],
 "metadata": {
  "kernelspec": {
   "display_name": "Python 3",
   "language": "python",
   "name": "python3"
  },
  "language_info": {
   "codemirror_mode": {
    "name": "ipython",
    "version": 3
   },
   "file_extension": ".py",
   "mimetype": "text/x-python",
   "name": "python",
   "nbconvert_exporter": "python",
   "pygments_lexer": "ipython3",
   "version": "3.6.1"
  }
 },
 "nbformat": 4,
 "nbformat_minor": 2
}
